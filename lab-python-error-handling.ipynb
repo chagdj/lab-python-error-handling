{
 "cells": [
  {
   "cell_type": "markdown",
   "id": "25d7736c-ba17-4aff-b6bb-66eba20fbf4e",
   "metadata": {},
   "source": [
    "# Lab | Error Handling"
   ]
  },
  {
   "cell_type": "markdown",
   "id": "bc99b386-7508-47a0-bcdb-d969deaf6c8b",
   "metadata": {},
   "source": [
    "## Exercise: Error Handling for Managing Customer Orders\n",
    "\n",
    "The implementation of your code for managing customer orders assumes that the user will always enter a valid input. \n",
    "\n",
    "For example, we could modify the `initialize_inventory` function to include error handling.\n",
    "   - If the user enters an invalid quantity (e.g., a negative value or a non-numeric value), display an error message and ask them to re-enter the quantity for that product.\n",
    "   - Use a try-except block to handle the error and continue prompting the user until a valid quantity is entered.\n",
    "\n",
    "```python\n",
    "# Step 1: Define the function for initializing the inventory with error handling\n",
    "def initialize_inventory(products):\n",
    "    inventory = {}\n",
    "    for product in products:\n",
    "        valid_quantity = False\n",
    "        while not valid_quantity:\n",
    "            try:\n",
    "                quantity = int(input(f\"Enter the quantity of {product}s available: \"))\n",
    "                if quantity < 0:\n",
    "                    raise ValueError(\"Invalid quantity! Please enter a non-negative value.\")\n",
    "                valid_quantity = True\n",
    "            except ValueError as error:\n",
    "                print(f\"Error: {error}\")\n",
    "        inventory[product] = quantity\n",
    "    return inventory\n",
    "\n",
    "# Or, in another way:\n",
    "\n",
    "def initialize_inventory(products):\n",
    "    inventory = {}\n",
    "    for product in products:\n",
    "        valid_input = False\n",
    "        while not valid_input:\n",
    "            try:\n",
    "                quantity = int(input(f\"Enter the quantity of {product}s available: \"))\n",
    "                if quantity >= 0:\n",
    "                    inventory[product] = quantity\n",
    "                    valid_input = True\n",
    "                else:\n",
    "                    print(\"Quantity cannot be negative. Please enter a valid quantity.\")\n",
    "            except ValueError:\n",
    "                print(\"Invalid input. Please enter a valid quantity.\")\n",
    "    return inventory\n",
    "```\n",
    "\n",
    "Let's enhance your code by implementing error handling to handle invalid inputs.\n",
    "\n",
    "Follow the steps below to complete the exercise:\n",
    "\n",
    "2. Modify the `calculate_total_price` function to include error handling.\n",
    "   - If the user enters an invalid price (e.g., a negative value or a non-numeric value), display an error message and ask them to re-enter the price for that product.\n",
    "   - Use a try-except block to handle the error and continue prompting the user until a valid price is entered.\n",
    "\n",
    "3. Modify the `get_customer_orders` function to include error handling.\n",
    "   - If the user enters an invalid number of orders (e.g., a negative value or a non-numeric value), display an error message and ask them to re-enter the number of orders.\n",
    "   - If the user enters an invalid product name (e.g., a product name that is not in the inventory), or that doesn't have stock available, display an error message and ask them to re-enter the product name. *Hint: you will need to pass inventory as a parameter*\n",
    "   - Use a try-except block to handle the error and continue prompting the user until a valid product name is entered.\n",
    "\n",
    "4. Test your code by running the program and deliberately entering invalid quantities and product names. Make sure the error handling mechanism works as expected.\n"
   ]
  },
  {
   "cell_type": "code",
   "execution_count": 1,
   "id": "06f6569f-a50c-4eb4-88a3-72a234c8cebc",
   "metadata": {},
   "outputs": [],
   "source": [
    "products = [\"t-shirt\", \"mug\", \"hat\", \"book\", \"keychain\"]\n",
    "\n",
    "\n",
    "def initialize_inventory(products):\n",
    "    inventory = {}\n",
    "    for product in products:\n",
    "        valid_quantity = False\n",
    "        while not valid_quantity:\n",
    "            try:\n",
    "                quantity = int(input(f\"Enter the quantity of {product}s available: \"))\n",
    "                if quantity < 0:\n",
    "                    raise ValueError(\"Invalid quantity! Please enter a non-negative value.\")\n",
    "                valid_quantity = True\n",
    "            except ValueError as error:\n",
    "                print(f\"Error: {error}\")\n",
    "        inventory[product] = quantity\n",
    "    return inventory\n",
    "\n",
    "\n"
   ]
  },
  {
   "cell_type": "code",
   "execution_count": 2,
   "id": "473fa4ff-fdee-4a78-b6b2-9d28a8e250da",
   "metadata": {},
   "outputs": [],
   "source": [
    "products = [\"t-shirt\", \"mug\", \"hat\", \"book\", \"keychain\"]\n",
    "\n",
    "def calculate_total_price(inventory):\n",
    "    prices = dict()\n",
    "    \n",
    "    for product in products:\n",
    "        while True:  \n",
    "            price = input(f\"What is the price of {product}? \")\n",
    "            try:\n",
    "                price = float(price)  \n",
    "                if price > 0:\n",
    "                    prices[product] = price  \n",
    "                    break  \n",
    "                else:\n",
    "                    print(f\"Please re-enter the {product} price. The price cannot be negative.\") \n",
    "            except ValueError:\n",
    "                print(f\"Please re-enter the {product} price.\") \n",
    "\n",
    "    total_price = sum(prices[product] for product in inventory)  # Use products to calculate total price\n",
    "\n",
    "    return prices, total_price\n",
    "\n",
    "\n"
   ]
  },
  {
   "cell_type": "code",
   "execution_count": 3,
   "id": "a3772dab-0a73-48e0-b100-574a12f943aa",
   "metadata": {},
   "outputs": [],
   "source": [
    "def get_customer_orders(inventory):\n",
    "    orders = {}\n",
    "    \n",
    "    # Demander combien de produits ont été commandés\n",
    "    while True:\n",
    "        try:\n",
    "            total_items = int(input(\"How many products have been ordered? \"))\n",
    "            if total_items > 0:\n",
    "                break\n",
    "            else:\n",
    "                print(\"The number of products ordered must be positive.\")\n",
    "        except ValueError:\n",
    "            print(\"Invalid input. Please enter a valid number.\")\n",
    "\n",
    "    customer_orders = []\n",
    "\n",
    "    for i in range(total_items):\n",
    "        while True:\n",
    "            try:\n",
    "                order_product = input(f\"Enter the name of product {i + 1} that a customer wants to order: \")\n",
    "                if order_product in inventory and inventory[order_product] > 0:\n",
    "                    customer_orders.append(order_product)  \n",
    "                    inventory[order_product] -= 1  # Réduire le stock\n",
    "\n",
    "                    # Ajouter la quantité au dictionnaire orders\n",
    "                    if order_product in orders:\n",
    "                        orders[order_product] += 1  # Incrémenter la quantité\n",
    "                    else:\n",
    "                        orders[order_product] = 1  # Initialiser la quantité pour un nouveau produit\n",
    "                    break  \n",
    "                else:\n",
    "                    print(f\"{order_product} is not available or out of stock. Please re-enter.\")\n",
    "            except ValueError:\n",
    "                print(\"Please re-enter the product name.\")\n",
    "\n",
    "    return orders, customer_orders\n"
   ]
  },
  {
   "cell_type": "code",
   "execution_count": 11,
   "id": "d8113424-2e42-41f7-a401-d92f4ac1074f",
   "metadata": {},
   "outputs": [
    {
     "name": "stdin",
     "output_type": "stream",
     "text": [
      "Enter the quantity of t-shirts available:  2\n",
      "Enter the quantity of mugs available:  2\n",
      "Enter the quantity of hats available:  2\n",
      "Enter the quantity of books available:  2\n",
      "Enter the quantity of keychains available:  22\n"
     ]
    },
    {
     "name": "stdout",
     "output_type": "stream",
     "text": [
      "\n",
      "{'t-shirt': 2, 'mug': 2, 'hat': 2, 'book': 2, 'keychain': 22}\n"
     ]
    },
    {
     "name": "stdin",
     "output_type": "stream",
     "text": [
      "What is the price of t-shirt?  23\n",
      "What is the price of mug?  23\n",
      "What is the price of hat?  3\n",
      "What is the price of book?  23\n",
      "What is the price of keychain?  23\n"
     ]
    },
    {
     "name": "stdout",
     "output_type": "stream",
     "text": [
      "Price of t-shirt: $23.00\n",
      "Price of mug: $23.00\n",
      "Price of hat: $3.00\n",
      "Price of book: $23.00\n",
      "Price of keychain: $23.00\n",
      "\n",
      "Total Price: $95.00\n"
     ]
    },
    {
     "name": "stdin",
     "output_type": "stream",
     "text": [
      "\n",
      " How many products have been ordered. 4\n",
      "Enter the name of product 1 that a customer wants to order:  mug\n",
      "Enter the name of product 2 that a customer wants to order:  mug\n",
      "Enter the name of product 3 that a customer wants to order:  t-shirt\n",
      "Enter the name of product 4 that a customer wants to order:  keychain \n"
     ]
    },
    {
     "name": "stdout",
     "output_type": "stream",
     "text": [
      "Invalid product name or out of stock. Please re-enter.\n"
     ]
    },
    {
     "name": "stdin",
     "output_type": "stream",
     "text": [
      "Enter the name of product 4 that a customer wants to order:  mug\n"
     ]
    },
    {
     "name": "stdout",
     "output_type": "stream",
     "text": [
      "Invalid product name or out of stock. Please re-enter.\n"
     ]
    },
    {
     "name": "stdin",
     "output_type": "stream",
     "text": [
      "Enter the name of product 4 that a customer wants to order:  hat\n"
     ]
    },
    {
     "name": "stdout",
     "output_type": "stream",
     "text": [
      "\n",
      "Customer Orders Details:\n",
      "\n",
      "--- Final Order Summary ---\n",
      "1. mug\n",
      "2. mug\n",
      "3. t-shirt\n",
      "4. hat\n",
      "\n",
      "Total Price: $95.00\n"
     ]
    }
   ],
   "source": [
    "inventory = initialize_inventory(products)\n",
    "print(f\"\\n{inventory}\")\n",
    "\n",
    "prices, total_price = calculate_total_price(inventory)\n",
    "\n",
    "for product, price in prices.items():\n",
    "    print(f\"Price of {product}: ${price:.2f}\")\n",
    "\n",
    "print(\"\\nTotal Price:\", f\"${total_price:.2f}\")\n",
    "\n",
    "orders, customer_orders = get_customer_orders(inventory)\n",
    "\n",
    "\n",
    "# Liste des produits commandés par le client\n",
    "print(\"\\nCustomer Orders Details:\")\n",
    "\n",
    "\n",
    "# Résumé général de la commande\n",
    "print(\"\\n--- Final Order Summary ---\")\n",
    "for i, product in enumerate(customer_orders, start=1):\n",
    "    print(f\"{i}. {product}\")\n",
    "print(f\"\\nTotal Price: ${float(total_price):.2f}\")"
   ]
  },
  {
   "cell_type": "code",
   "execution_count": null,
   "id": "22b49a15-159a-4211-affc-24862ca69f80",
   "metadata": {},
   "outputs": [],
   "source": []
  }
 ],
 "metadata": {
  "kernelspec": {
   "display_name": "Python 3 (ipykernel)",
   "language": "python",
   "name": "python3"
  },
  "language_info": {
   "codemirror_mode": {
    "name": "ipython",
    "version": 3
   },
   "file_extension": ".py",
   "mimetype": "text/x-python",
   "name": "python",
   "nbconvert_exporter": "python",
   "pygments_lexer": "ipython3",
   "version": "3.12.2"
  }
 },
 "nbformat": 4,
 "nbformat_minor": 5
}
